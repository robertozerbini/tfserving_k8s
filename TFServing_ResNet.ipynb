{
  "nbformat": 4,
  "nbformat_minor": 0,
  "metadata": {
    "colab": {
      "name": "TFServing ResNet.ipynb",
      "provenance": [],
      "collapsed_sections": [],
      "authorship_tag": "ABX9TyP5zoZY2HxFvSa/pT8e2aA+",
      "include_colab_link": true
    },
    "kernelspec": {
      "name": "python3",
      "display_name": "Python 3"
    },
    "language_info": {
      "name": "python"
    }
  },
  "cells": [
    {
      "cell_type": "markdown",
      "metadata": {
        "id": "view-in-github",
        "colab_type": "text"
      },
      "source": [
        "<a href=\"https://colab.research.google.com/github/robertozerbini/tfserving_k8s/blob/master/TFServing_ResNet.ipynb\" target=\"_parent\"><img src=\"https://colab.research.google.com/assets/colab-badge.svg\" alt=\"Open In Colab\"/></a>"
      ]
    },
    {
      "cell_type": "code",
      "source": [
        "#@title Dependencies\n",
        "\n",
        "!pip install python-resize-image\n",
        "from resizeimage import resizeimage\n",
        "import shutil # save img locally\n",
        "from __future__ import print_function\n",
        "\n",
        "import base64\n",
        "import io\n",
        "import json\n",
        "\n",
        "import numpy as np\n",
        "from PIL import Image\n",
        "import requests\n",
        "\n",
        "import tensorflow as tf\n",
        "\n",
        "import scipy.misc\n",
        "from six import BytesIO\n",
        "from PIL import Image, ImageDraw, ImageFont\n",
        "from six.moves.urllib.request import urlopen"
      ],
      "metadata": {
        "id": "sKH5F6U2v9pb"
      },
      "execution_count": null,
      "outputs": []
    },
    {
      "cell_type": "markdown",
      "source": [
        "#Resnet-50"
      ],
      "metadata": {
        "id": "VkRLvF_q_3Jk"
      }
    },
    {
      "cell_type": "code",
      "source": [
        "#@title Predict Resnet-50\n",
        "IMAGE_URL = \"https://www.metoffice.gov.uk/binaries/content/gallery/metofficegovuk/hero-images/advice/maps-satellite-images/satellite-image-of-globe.jpg\" #@param {type:\"string\"}\n",
        "# The server URL specifies the endpoint of your server running the ResNet\n",
        "# model with the name \"resnet\" and using the predict interface.\n",
        "SERVER_URL = 'http://\\u003CLoadbalancer IP>:8501/v1/models/resnet:predict' #@param {type:\"string\"}\n",
        "\n",
        "#IMAGE_URL = 'https://www.thesprucepets.com/thmb/lIRYTymFwujCVbg4UbxAOyWwQ_s=/5064x3315/filters:fill(auto,1)/canaan-dog--lying-down-110056364-5c44fecac9e77c0001a2bf1c.jpg'\n",
        "\n",
        "# Download the image\n",
        "#dl_request = requests.get(IMAGE_URL, stream=True)\n",
        "#dl_request.raise_for_status()\n",
        "\n",
        "\n",
        "\n",
        "#IMAGE_URL = 'https://www.thesprucepets.com/thmb/lIRYTymFwujCVbg4UbxAOyWwQ_s=/5064x3315/filters:fill(auto,1)/canaan-dog--lying-down-110056364-5c44fecac9e77c0001a2bf1c.jpg'\n",
        "file_name = '/tmp/test.jpg'\n",
        "resized_image = '/tmp/output.jpg'\n",
        "\n",
        "# Download the image\n",
        "dl_request = requests.get(IMAGE_URL, stream=True)\n",
        "dl_request.raise_for_status()\n",
        "#resize input\n",
        "with open(file_name,'wb') as f:\n",
        "    shutil.copyfileobj(dl_request.raw, f) \n",
        "\n",
        "with open(file_name, 'r+b') as f:\n",
        "    with Image.open(f) as image:\n",
        "        cover = resizeimage.resize_cover(image, [250, 250])\n",
        "        cover.save(resized_image, image.format)\n",
        "        \n",
        "# Compose a JOSN Predict request (send the image tensor).\n",
        "#jpeg_rgb = Image.open(io.BytesIO(dl_request.content))\n",
        "jpeg_rgb = Image.open(resized_image)\n",
        "# Normalize and batchify the image\n",
        "jpeg_rgb = np.expand_dims(np.array(jpeg_rgb) / 255.0, 0).tolist()\n",
        "predict_request = json.dumps({'instances': jpeg_rgb})\n",
        "\n",
        "response = requests.post(SERVER_URL, data=predict_request)\n",
        "response.raise_for_status()\n",
        "#total_time += response.elapsed.total_seconds()\n",
        "prediction = response.json()['predictions'][0]\n",
        "\n",
        "tf.keras.applications.resnet50.decode_predictions(\n",
        "    np.array(prediction)[:1000].reshape(1,1000), top=5\n",
        ")\n"
      ],
      "metadata": {
        "id": "8kWo9Xx3omH1"
      },
      "execution_count": null,
      "outputs": []
    },
    {
      "cell_type": "markdown",
      "source": [
        "#Test"
      ],
      "metadata": {
        "id": "zUBHcGggyoit"
      }
    },
    {
      "cell_type": "code",
      "source": [
        "file = open('request.json', 'w')\n",
        "file.write(predict_request)\n",
        "file.close()"
      ],
      "metadata": {
        "id": "_YsgGB3rWNX1"
      },
      "execution_count": null,
      "outputs": []
    },
    {
      "cell_type": "code",
      "source": [
        "!curl -d \"@request.json\" -X POST SERVER_URL"
      ],
      "metadata": {
        "id": "1Cy75BxYnzPa"
      },
      "execution_count": null,
      "outputs": []
    },
    {
      "cell_type": "code",
      "source": [
        "load_image_into_numpy_array(resized_image)"
      ],
      "metadata": {
        "id": "e-pXppWSvXjE"
      },
      "execution_count": null,
      "outputs": []
    }
  ]
}